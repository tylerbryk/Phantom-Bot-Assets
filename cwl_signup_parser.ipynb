{
 "cells": [
  {
   "cell_type": "markdown",
   "metadata": {},
   "source": [
    "## CWL Signup Formatter\n",
    "\n",
    "Use this script to convert a list of player tags to "
   ]
  },
  {
   "cell_type": "code",
   "execution_count": 8,
   "metadata": {},
   "outputs": [],
   "source": [
    "import pandas as pd\n",
    "data = pd.read_csv('CWL Signup - August 2021 - Form Responses 1.csv')\n",
    "data = data.drop(['Timestamp', 'What is your Discord name?', 'Do you have any comments or feedback for us regarding CWL?'], axis=1)"
   ]
  },
  {
   "cell_type": "code",
   "execution_count": 9,
   "metadata": {},
   "outputs": [],
   "source": [
    "tags = []\n",
    "for key, val in data.iterrows():\n",
    "    for item in val:\n",
    "        if type(item) is str:\n",
    "            tags.append(item)"
   ]
  },
  {
   "cell_type": "code",
   "execution_count": 10,
   "metadata": {},
   "outputs": [],
   "source": [
    "import coc\n",
    "import nest_asyncio\n",
    "nest_asyncio.apply()\n",
    "\n",
    "client = coc.login('nrcbot@gmail.com', 'PhantomBot1234', \n",
    "                   client=coc.Client, key_names='NRC Bot', key_count=1)"
   ]
  },
  {
   "cell_type": "code",
   "execution_count": 12,
   "metadata": {},
   "outputs": [
    {
     "name": "stdout",
     "output_type": "stream",
     "text": [
      "#PL0YPGC02\n",
      "#CP90GG2Q\n"
     ]
    }
   ],
   "source": [
    "df = pd.DataFrame(columns=['Tag', 'Name', 'TH', 'BK', 'AQ', 'GW', 'RC'])\n",
    "\n",
    "for tag in tags:\n",
    "    try:\n",
    "        player = await client.get_player(tag)\n",
    "        name = player.name\n",
    "        TH = player.town_hall\n",
    "        if TH < 11:\n",
    "            continue\n",
    "        BK = player.get_hero('Barbarian King').level\n",
    "        AQ = player.get_hero('Archer Queen').level\n",
    "        if player.get_hero('Grand Warden', default_value=0) == 0: GW = 0\n",
    "        else: GW = player.get_hero('Grand Warden', default_value=0).level\n",
    "        if player.get_hero('Royal Champion', default_value=0) == 0: RC = 0\n",
    "        else: RC = player.get_hero('Royal Champion', default_value=0).level\n",
    "        df = df.append({'Tag':tag, 'Name':name, 'TH':TH, 'BK':BK, 'AQ':AQ, 'GW':GW, 'RC':RC}, ignore_index=True)\n",
    "    except Exception:\n",
    "        print(tag)"
   ]
  },
  {
   "cell_type": "code",
   "execution_count": 5,
   "metadata": {},
   "outputs": [],
   "source": [
    "df = df.sort_values(['TH', 'BK', 'AQ', 'GW', 'RC', 'Name'], ascending=False)\n",
    "df.to_excel('CWL_Signups.xlsx', index=False)"
   ]
  }
 ],
 "metadata": {
  "kernelspec": {
   "display_name": "Python 3",
   "language": "python",
   "name": "python3"
  },
  "language_info": {
   "codemirror_mode": {
    "name": "ipython",
    "version": 3
   },
   "file_extension": ".py",
   "mimetype": "text/x-python",
   "name": "python",
   "nbconvert_exporter": "python",
   "pygments_lexer": "ipython3",
   "version": "3.8.5"
  }
 },
 "nbformat": 4,
 "nbformat_minor": 4
}
